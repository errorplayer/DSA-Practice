# 1 install Python in your computer

###2 save the system enviroment path for Python

###3 install Pip for python 

###4 go to the folder of  python installation and check if there is a executable file named "easy_install-3.7.exe"
