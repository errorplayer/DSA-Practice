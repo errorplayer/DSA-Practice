{
 "cells": [
  {
   "attachments": {},
   "cell_type": "markdown",
   "metadata": {},
   "source": [
    "### 1 Install Python in your computer\n",
    "\n",
    "### 2 Save the system enviroment path for Python\n",
    " \n",
    "### 3 Install Pip for python \n",
    "\n",
    "### 4 Go to the folder of python installation and check if there is a executable file named \"easy_install-3.7.exe\"\n",
    "![step4.jpg](attachment:step4.jpg)\n",
    "\n",
    "\n",
    "### 5 Run the cmd using admin account and run the command line \"easy_install-3.7 ipython\" and close this terminal after finishing installation\n",
    "\n",
    "### 6 Run the cmd using any account [at your desirable location]and run the command line \"ipython notebook\" \n",
    "\n",
    "### 7 A tab page (http://localhost:8888/tree) will automatically opened on your defualt browser."
   ]
  },
  {
   "cell_type": "code",
   "execution_count": null,
   "metadata": {},
   "outputs": [],
   "source": []
  }
 ],
 "metadata": {
  "kernelspec": {
   "display_name": "Python 3",
   "language": "python",
   "name": "python3"
  },
  "language_info": {
   "codemirror_mode": {
    "name": "ipython",
    "version": 3
   },
   "file_extension": ".py",
   "mimetype": "text/x-python",
   "name": "python",
   "nbconvert_exporter": "python",
   "pygments_lexer": "ipython3",
   "version": "3.7.0"
  }
 },
 "nbformat": 4,
 "nbformat_minor": 4
}
